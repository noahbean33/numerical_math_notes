{
 "cells": [
  {
   "cell_type": "code",
   "execution_count": 1,
   "metadata": {
    "tags": [
     "remove-input"
    ]
   },
   "outputs": [],
   "source": [
    "import warnings\n",
    "warnings.filterwarnings('ignore')"
   ]
  },
  {
   "cell_type": "markdown",
   "metadata": {},
   "source": [
    "# Chapter 5. Matrices and equations"
   ]
  },
  {
   "cell_type": "markdown",
   "metadata": {},
   "source": [
    "## The LU decomposition"
   ]
  },
  {
   "cell_type": "markdown",
   "metadata": {},
   "source": [
    "### Implementing the LU decomposition"
   ]
  },
  {
   "cell_type": "code",
   "execution_count": 2,
   "metadata": {},
   "outputs": [],
   "source": [
    "import numpy as np\n",
    "\n",
    "\n",
    "def elimination_matrix(\n",
    "    A: np.ndarray,\n",
    "    step: int, \n",
    "):\n",
    "    \"\"\"\n",
    "    Computes the step-th elimination matrix and its inverse.\n",
    "    \n",
    "    Args:\n",
    "        A (np.ndarray): The matrix of shape (n, n) for which \n",
    "            the LU decomposition is being computed.\n",
    "        step (int): The current step of elimination, an integer\n",
    "            between 1 and n-1\n",
    "\n",
    "    Returns:\n",
    "        elim_mtx (np.ndarray): The step-th elimination matrix\n",
    "            of shape (n, n)\n",
    "        elim_mtx_inv (np.ndarray): The inverse of the\n",
    "            elimination matrix of shape (n, n)\n",
    "    \"\"\"\n",
    "    \n",
    "    n = A.shape[0]\n",
    "    elim_mtx = np.eye(n)\n",
    "    elim_mtx_inv = np.eye(n)\n",
    "    \n",
    "    if 0 < step < n:\n",
    "        a = A[:, step-1]/A[step-1, step-1]\n",
    "        elim_mtx[step:, step-1] = -a[step:]\n",
    "        elim_mtx_inv[step:, step-1] = a[step:]\n",
    "    \n",
    "    return elim_mtx, elim_mtx_inv"
   ]
  },
  {
   "cell_type": "code",
   "execution_count": 3,
   "metadata": {},
   "outputs": [],
   "source": [
    "def LU(A: np.ndarray):\n",
    "    \"\"\"\n",
    "    Computes the LU factorization of a square matrix A.\n",
    "    \n",
    "    Args:\n",
    "        A (np.ndarray): A square matrix of shape (n, n) to be factorized. \n",
    "            It must be non-singular (invertible) for the \n",
    "            decomposition to work.\n",
    "\n",
    "    Returns:\n",
    "        L (np.ndarray): A lower triangular matrix of shape (n, n) \n",
    "            with ones on the diagonal.\n",
    "        U (np.ndarray): An upper triangular matrix of shape (n, n).\n",
    "    \"\"\"\n",
    "    \n",
    "    n = A.shape[0]\n",
    "    L = np.eye(n)\n",
    "    U = np.copy(A)\n",
    "    \n",
    "    for step in range(1, n):\n",
    "        elim_mtx, elim_mtx_inv = elimination_matrix(U, step=step)\n",
    "        U = np.matmul(elim_mtx, U)\n",
    "        L = np.matmul(L, elim_mtx_inv)\n",
    "    \n",
    "    return L, U"
   ]
  },
  {
   "cell_type": "code",
   "execution_count": 4,
   "metadata": {},
   "outputs": [
    {
     "data": {
      "text/plain": [
       "array([[-2.52181977,  0.07872749,  4.86001156,  2.07827473],\n",
       "       [-2.09539131,  3.08914232, -2.87146667, -3.00133445],\n",
       "       [ 3.24887478,  4.60332524, -1.99862347, -4.1464174 ],\n",
       "       [-1.38667262,  4.01625566,  0.65444065, -3.15511555]])"
      ]
     },
     "execution_count": 4,
     "metadata": {},
     "output_type": "execute_result"
    }
   ],
   "source": [
    "A = 10*np.random.rand(4, 4) - 5\n",
    "A"
   ]
  },
  {
   "cell_type": "code",
   "execution_count": 5,
   "metadata": {},
   "outputs": [
    {
     "name": "stdout",
     "output_type": "stream",
     "text": [
      "Lower:\n",
      "[[ 1.          0.          0.          0.        ]\n",
      " [ 0.83090447  1.          0.          0.        ]\n",
      " [-1.2883057   1.55594399  1.          0.        ]\n",
      " [ 0.54986983  1.31392993  0.47029909  1.        ]]\n",
      "\n",
      "Upper:\n",
      "[[-2.52181977  0.07872749  4.86001156  2.07827473]\n",
      " [ 0.          3.0237273  -6.90967199 -4.72818221]\n",
      " [ 0.          0.         15.01361973  5.88782247]\n",
      " [ 0.          0.          0.         -0.85443358]]\n"
     ]
    }
   ],
   "source": [
    "L, U = LU(A)\n",
    "\n",
    "print(f\"Lower:\\n{L}\\n\\nUpper:\\n{U}\")"
   ]
  },
  {
   "cell_type": "code",
   "execution_count": 6,
   "metadata": {},
   "outputs": [
    {
     "data": {
      "text/plain": [
       "True"
      ]
     },
     "execution_count": 6,
     "metadata": {},
     "output_type": "execute_result"
    }
   ],
   "source": [
    "np.allclose(np.matmul(L, U), A)"
   ]
  },
  {
   "cell_type": "markdown",
   "metadata": {},
   "source": [
    "### Inverting a matrix, for real"
   ]
  },
  {
   "cell_type": "code",
   "execution_count": 7,
   "metadata": {},
   "outputs": [],
   "source": [
    "def invert_lower_triangular_matrix(L: np.ndarray):\n",
    "    \"\"\"\n",
    "    Computes the inverse of a lower triangular matrix.\n",
    "\n",
    "    Args:\n",
    "        L (np.ndarray): A square lower triangular matrix of shape (n, n). \n",
    "                        It must have non-zero diagonal elements for the \n",
    "                        inversion to succeed.\n",
    "\n",
    "    Returns:\n",
    "        np.ndarray: The inverse of the lower triangular matrix L, with\n",
    "                        shape (n, n).\n",
    "    \"\"\"\n",
    "    n = L.shape[0]\n",
    "    G = np.eye(n)\n",
    "    D = np.copy(L)\n",
    "    \n",
    "    for step in range(1, n):\n",
    "        elim_mtx, _ = elimination_matrix(D, step=step)\n",
    "        G = np.matmul(elim_mtx, G)\n",
    "        D = np.matmul(elim_mtx, D)\n",
    "        \n",
    "    D_inv = np.eye(n)/np.diagonal(D)   # NumPy performs this operation elementwise\n",
    "    \n",
    "    return np.matmul(D_inv, G)"
   ]
  },
  {
   "cell_type": "code",
   "execution_count": 8,
   "metadata": {},
   "outputs": [],
   "source": [
    "def invert(A: np.ndarray):\n",
    "    \"\"\"\n",
    "    Computes the inverse of a square matrix using its LU decomposition.\n",
    "\n",
    "    Args:\n",
    "        A (np.ndarray): A square matrix of shape (n, n). The matrix must be \n",
    "                        non-singular (invertible) for the inversion to succeed.\n",
    "\n",
    "    Returns:\n",
    "        np.ndarray: The inverse of the input matrix A, with shape (n, n).\n",
    "    \"\"\"\n",
    "    L, U = LU(A)\n",
    "    L_inv = invert_lower_triangular_matrix(L)\n",
    "    U_inv = invert_lower_triangular_matrix(U.T).T\n",
    "    return np.matmul(U_inv, L_inv)"
   ]
  },
  {
   "cell_type": "code",
   "execution_count": 9,
   "metadata": {},
   "outputs": [
    {
     "name": "stdout",
     "output_type": "stream",
     "text": [
      "A:\n",
      "[[0.11622029 0.85468856 0.01935418]\n",
      " [0.25573164 0.4147443  0.2831796 ]\n",
      " [0.72534232 0.17804492 0.49761005]]\n",
      "\n",
      "A⁻¹:\n",
      "[[ 1.95009732 -5.27473606  2.92589579]\n",
      " [ 0.97712919  0.54758462 -0.34962383]\n",
      " [-3.19218031  7.49280414 -2.1302369 ]]\n",
      "\n",
      "AA⁻¹:\n",
      "[[ 1.00000000e+00 -2.89495728e-16  6.08127525e-17]\n",
      " [ 2.25713230e-16  1.00000000e+00  6.77391599e-18]\n",
      " [ 3.99707490e-16 -1.57175183e-15  1.00000000e+00]]\n"
     ]
    }
   ],
   "source": [
    "A = np.random.rand(3, 3)\n",
    "A_inv = invert(A)\n",
    "\n",
    "print(f\"A:\\n{A}\\n\\nA⁻¹:\\n{A_inv}\\n\\nAA⁻¹:\\n{np.matmul(A, A_inv)}\")"
   ]
  },
  {
   "cell_type": "code",
   "execution_count": 10,
   "metadata": {},
   "outputs": [],
   "source": [
    "for _ in range(1000):\n",
    "    n = np.random.randint(1, 10)\n",
    "    A = np.random.rand(n, n)\n",
    "    A_inv = invert(A)\n",
    "    if not np.allclose(np.matmul(A, A_inv), np.eye(n), atol=1e-5):\n",
    "        print(\"Test failed.\")"
   ]
  },
  {
   "cell_type": "markdown",
   "metadata": {},
   "source": [
    "### How to actually invert matrices"
   ]
  },
  {
   "cell_type": "code",
   "execution_count": 11,
   "metadata": {},
   "outputs": [
    {
     "name": "stdout",
     "output_type": "stream",
     "text": [
      "A:\n",
      "[[0.51874704 0.77117844 0.81353309]\n",
      " [0.05266504 0.2246453  0.8597507 ]\n",
      " [0.39976704 0.62327768 0.67388369]]\n",
      "\n",
      "NumPy's A⁻¹:\n",
      "[[ 47.3604734    1.55547434 -59.15951565]\n",
      " [-37.96561146  -2.99963689  49.66023344]\n",
      " [  7.01895919   1.85162422  -9.35189695]]\n",
      "\n",
      "AA⁻¹:\n",
      "[[ 1.00000000e+00  9.67909512e-17  3.50763709e-15]\n",
      " [ 1.68319122e-16  1.00000000e+00  1.13166915e-15]\n",
      " [-2.86189018e-15  2.74531349e-16  1.00000000e+00]]\n"
     ]
    }
   ],
   "source": [
    "A = np.random.rand(3, 3)\n",
    "A_inv = np.linalg.inv(A)\n",
    "\n",
    "print(f\"A:\\n{A}\\n\\nNumPy's A⁻¹:\\n{A_inv}\\n\\nAA⁻¹:\\n{np.matmul(A, A_inv)}\")"
   ]
  },
  {
   "cell_type": "code",
   "execution_count": 12,
   "metadata": {},
   "outputs": [
    {
     "name": "stdout",
     "output_type": "stream",
     "text": [
      "Our invert:              \t3.4115849529916886 s\n",
      "NumPy's invert:          \t0.016944584000157192 s\n",
      "Performance improvement: \t201.33778161565016 times faster\n"
     ]
    }
   ],
   "source": [
    "from timeit import timeit\n",
    "\n",
    "\n",
    "n_runs = 100\n",
    "size = 100\n",
    "A = np.random.rand(size, size)\n",
    "\n",
    "t_inv = timeit(lambda: invert(A), number=n_runs)\n",
    "t_np_inv = timeit(lambda: np.linalg.inv(A), number=n_runs)\n",
    "\n",
    "\n",
    "print(f\"Our invert:              \\t{t_inv} s\")\n",
    "print(f\"NumPy's invert:          \\t{t_np_inv} s\")\n",
    "print(f\"Performance improvement: \\t{t_inv/t_np_inv} times faster\")"
   ]
  },
  {
   "cell_type": "markdown",
   "metadata": {},
   "source": [
    "## Determinants in practice"
   ]
  },
  {
   "cell_type": "markdown",
   "metadata": {},
   "source": [
    "### The recursive way"
   ]
  },
  {
   "cell_type": "code",
   "execution_count": 13,
   "metadata": {},
   "outputs": [],
   "source": [
    "def det(A: np.ndarray):\n",
    "    \"\"\"\n",
    "    Recursively computes the determinant of a square matrix A.\n",
    "\n",
    "    Args:\n",
    "        A (np.ndarray): A square matrix of shape (n, n) for which the \n",
    "        determinant is to be calculated.\n",
    "\n",
    "    Returns:\n",
    "        float: The determinant of matrix A.\n",
    "\n",
    "    Raises:\n",
    "        ValueError: If A is not a square matrix.\n",
    "    \"\"\"\n",
    "\n",
    "    n, m = A.shape\n",
    "    \n",
    "    # making sure that A is a square matrix\n",
    "    if n != m:\n",
    "        raise ValueError(\"A must be a square matrix.\")\n",
    "        \n",
    "    if n == 1:\n",
    "        return A[0, 0]\n",
    "    \n",
    "    else:\n",
    "        return sum([(-1)**j*A[0, j]*det(np.delete(A[1:], j, axis=1)) for j in range(n)])"
   ]
  },
  {
   "cell_type": "code",
   "execution_count": 14,
   "metadata": {},
   "outputs": [],
   "source": [
    "A = np.array([[1, 2],\n",
    "              [3, 4]])"
   ]
  },
  {
   "cell_type": "code",
   "execution_count": 15,
   "metadata": {},
   "outputs": [
    {
     "data": {
      "text/plain": [
       "np.int64(-2)"
      ]
     },
     "execution_count": 15,
     "metadata": {},
     "output_type": "execute_result"
    }
   ],
   "source": [
    "det(A)    # should be -2"
   ]
  },
  {
   "cell_type": "code",
   "execution_count": 16,
   "metadata": {},
   "outputs": [
    {
     "name": "stdout",
     "output_type": "stream",
     "text": [
      "The time it takes to compute the determinant of a 10 x 10 matrix: 17.707615608000197 seconds\n"
     ]
    }
   ],
   "source": [
    "from timeit import timeit\n",
    "\n",
    "A = np.random.rand(10, 10)\n",
    "t_det = timeit(lambda: det(A), number=1)\n",
    "\n",
    "print(f\"The time it takes to compute the determinant of a 10 x 10 matrix: {t_det} seconds\")"
   ]
  },
  {
   "cell_type": "markdown",
   "metadata": {},
   "source": [
    "### How to actually compute determinants"
   ]
  },
  {
   "cell_type": "code",
   "execution_count": 17,
   "metadata": {},
   "outputs": [],
   "source": [
    "def fast_det(A: np.ndarray):\n",
    "    \"\"\"\n",
    "    Computes the determinant of a square matrix using LU decomposition.\n",
    "    \n",
    "    Args:\n",
    "        A (np.ndarray): A square matrix of shape (n, n) for which the determinant \n",
    "                         needs to be computed. The matrix must be non-singular (invertible).\n",
    "\n",
    "    Returns:\n",
    "        float: The determinant of the matrix A..\n",
    "    \"\"\"\n",
    "\n",
    "    L, U = LU(A)\n",
    "    return np.prod(np.diag(U))"
   ]
  },
  {
   "cell_type": "code",
   "execution_count": 18,
   "metadata": {},
   "outputs": [
    {
     "name": "stdout",
     "output_type": "stream",
     "text": [
      "The time it takes to compute the determinant of a 10 x 10 matrix: 0.0003277480136603117 seconds\n"
     ]
    }
   ],
   "source": [
    "A = np.random.rand(10, 10)\n",
    "\n",
    "\n",
    "t_fast_det = timeit(lambda : fast_det(A), number=1)\n",
    "print(f\"The time it takes to compute the determinant of a 10 x 10 matrix: {t_fast_det} seconds\")"
   ]
  },
  {
   "cell_type": "code",
   "execution_count": 19,
   "metadata": {},
   "outputs": [
    {
     "name": "stdout",
     "output_type": "stream",
     "text": [
      "Recursive determinant:   \t17.707615608000197 s\n",
      "LU determinant:          \t0.0003277480136603117 s\n",
      "Performance improvement: \t54028.140125825215 times faster\n"
     ]
    }
   ],
   "source": [
    "print(f\"Recursive determinant:   \\t{t_det} s\")\n",
    "print(f\"LU determinant:          \\t{t_fast_det} s\")\n",
    "print(f\"Performance improvement: \\t{t_det/t_fast_det} times faster\")"
   ]
  },
  {
   "cell_type": "markdown",
   "metadata": {},
   "source": [
    "## Problems"
   ]
  },
  {
   "cell_type": "markdown",
   "metadata": {},
   "source": [
    "**Problem 3.** Before we wrap this chapter up, let's go back to the definition of determinants. Even though we have lots of reasons against using the determinant formula, we have one for it: it is a good exercise, and implementing it will deepen your understanding. So, in this problem, you are going to build\n",
    "\n",
    "$$\n",
    "    \\det A = \\sum_{\\sigma \\in S_n} \\mathrm{sign}(\\sigma) a_{\\sigma(1)1} \\dots a_{\\sigma(n)n},\n",
    "$$\n",
    "\n",
    "one step at a time.\n",
    "\n",
    "*(i)* Implement a function that, given an integer $ n $, returns all permutations of the set $ \\{0, 1, \\dots, n-1\\} $. Represent each permutation $ \\sigma $ as a list. For example, \n",
    "\n",
    "```\n",
    "[2, 0, 1]\n",
    "```\n",
    "\n",
    "would represent the permutation $ \\sigma $, where $ \\sigma(0) = 2, \\sigma(1) = 0 $, and $ \\sigma(2) = 1 $."
   ]
  },
  {
   "cell_type": "markdown",
   "metadata": {},
   "source": [
    "*(ii)* Let $ \\sigma \\in S_n $ be a permutation of the set $ {0, 1, \\dots, n-1} $. Its *inversion number* is defined by\n",
    "\n",
    "$$\n",
    "    \\mathrm{inversion}(\\sigma) = \\big| \\{ (i, j): i < j \\text{ and } \\sigma(i) > \\sigma(j) \\} \\big|,\n",
    "$$\n",
    "\n",
    "where $ |\\cdot| $ denotes the number of elements in the set. Essentially, inversion describes the number of times a permutation reverses the order of a pair of numbers.\n",
    "\n",
    "Turns out, the sign of $ \\sigma $ can be written as\n",
    "\n",
    "$$\n",
    "    \\mathrm{sign}(\\sigma) = (-1)^{\\mathrm{inversion}(\\sigma)}.\n",
    "$$\n",
    "\n",
    "Implement a function that first calculates the inversion number, then the sign of an arbitrary permutation. (Permutations are represented like in the previous problem.)"
   ]
  },
  {
   "cell_type": "markdown",
   "metadata": {},
   "source": [
    "*(iii)* Put the solutions for Problem 1. and Problem 2. together and calculate the determinant of a matrix using the permutation formula. What do you think the time complexity of this algorithm is?"
   ]
  },
  {
   "cell_type": "markdown",
   "metadata": {},
   "source": [
    "### Solutions\n",
    "\n",
    "**Problem 3.** *(i)*"
   ]
  },
  {
   "cell_type": "code",
   "execution_count": 20,
   "metadata": {},
   "outputs": [],
   "source": [
    "from copy import deepcopy\n",
    "\n",
    "\n",
    "def permutations(n: int):\n",
    "    if n == 0:\n",
    "        return [[0]]\n",
    "    else:\n",
    "        prev_permutations = permutations(n - 1)\n",
    "        \n",
    "        new_permutations = []\n",
    "        \n",
    "        for p in prev_permutations:\n",
    "            for i in range(len(p)+1):\n",
    "                p_new = deepcopy(p)\n",
    "                p_new.insert(i, n)\n",
    "                new_permutations.append(p_new)\n",
    "                \n",
    "        return new_permutations"
   ]
  },
  {
   "cell_type": "markdown",
   "metadata": {},
   "source": [
    "*(ii)*"
   ]
  },
  {
   "cell_type": "code",
   "execution_count": 21,
   "metadata": {},
   "outputs": [],
   "source": [
    "from itertools import product\n",
    "\n",
    "\n",
    "def inversion(permutation: list):\n",
    "    n = len(permutation)\n",
    "    inversions = sum([1 for i, j in product(range(n), range(n)) if i < j and permutation[i] > permutation[j]])\n",
    "    return inversions"
   ]
  },
  {
   "cell_type": "code",
   "execution_count": 22,
   "metadata": {},
   "outputs": [],
   "source": [
    "def sign(permutation: list):\n",
    "    i = inversion(permutation)\n",
    "    return (-1)**i"
   ]
  },
  {
   "cell_type": "markdown",
   "metadata": {},
   "source": [
    "*(iii)*"
   ]
  },
  {
   "cell_type": "code",
   "execution_count": 23,
   "metadata": {},
   "outputs": [],
   "source": [
    "def permutation_formula(A: np.ndarray):\n",
    "    n, _ = A.shape\n",
    "    S_n = permutations(n-1)\n",
    "    determinant = sum([sign(p)*np.prod([A[p[i], i] for i in range(n)]) for p in S_n])\n",
    "    return determinant"
   ]
  }
 ],
 "metadata": {
  "kernelspec": {
   "display_name": "mlfz",
   "language": "python",
   "name": "python3"
  },
  "language_info": {
   "codemirror_mode": {
    "name": "ipython",
    "version": 3
   },
   "file_extension": ".py",
   "mimetype": "text/x-python",
   "name": "python",
   "nbconvert_exporter": "python",
   "pygments_lexer": "ipython3",
   "version": "3.12.3"
  }
 },
 "nbformat": 4,
 "nbformat_minor": 4
}
